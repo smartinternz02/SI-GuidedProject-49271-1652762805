{
 "cells": [
  {
   "cell_type": "code",
   "execution_count": 1,
   "metadata": {},
   "outputs": [],
   "source": [
    "import tensorflow as tf"
   ]
  },
  {
   "cell_type": "markdown",
   "metadata": {},
   "source": [
    "# Importing libraries\n"
   ]
  },
  {
   "cell_type": "code",
   "execution_count": 2,
   "metadata": {},
   "outputs": [
    {
     "name": "stderr",
     "output_type": "stream",
     "text": [
      "Using TensorFlow backend.\n"
     ]
    }
   ],
   "source": [
    "from keras.models import Sequential\n",
    "from keras.layers import Convolution2D,Flatten,Dense,MaxPooling2D\n",
    "from keras.preprocessing.image import ImageDataGenerator"
   ]
  },
  {
   "cell_type": "markdown",
   "metadata": {},
   "source": [
    "# Loading Images\n"
   ]
  },
  {
   "cell_type": "code",
   "execution_count": 3,
   "metadata": {},
   "outputs": [],
   "source": [
    "train_datagen=ImageDataGenerator(horizontal_flip=True,rescale=1./255,zoom_range=0.2) \n",
    "#rescale=1./255 means transform every pixel value from range [0,255] -> [0,1]."
   ]
  },
  {
   "cell_type": "code",
   "execution_count": 4,
   "metadata": {},
   "outputs": [],
   "source": [
    "test_datagen=ImageDataGenerator(rescale=1./255)"
   ]
  },
  {
   "cell_type": "code",
   "execution_count": 6,
   "metadata": {},
   "outputs": [
    {
     "name": "stdout",
     "output_type": "stream",
     "text": [
      "Found 2508 images belonging to 6 classes.\n"
     ]
    }
   ],
   "source": [
    "X_train=train_datagen.flow_from_directory(\"D:\\chetu\\ML\\Garbage Classification Using CNN\\dataset\\Training\",target_size=(128,128),class_mode='categorical',batch_size=100)"
   ]
  },
  {
   "cell_type": "code",
   "execution_count": 7,
   "metadata": {},
   "outputs": [
    {
     "name": "stdout",
     "output_type": "stream",
     "text": [
      "Found 464 images belonging to 6 classes.\n"
     ]
    }
   ],
   "source": [
    "X_test=test_datagen.flow_from_directory(\"D:\\chetu\\ML\\Garbage Classification Using CNN\\dataset\\Testing\",target_size=(128,128),class_mode='categorical',batch_size=100)"
   ]
  },
  {
   "cell_type": "code",
   "execution_count": 8,
   "metadata": {},
   "outputs": [
    {
     "data": {
      "text/plain": [
       "{'cardboard': 0, 'glass': 1, 'metal': 2, 'paper': 3, 'plastic': 4, 'trash': 5}"
      ]
     },
     "execution_count": 8,
     "metadata": {},
     "output_type": "execute_result"
    }
   ],
   "source": [
    "X_train.class_indices"
   ]
  },
  {
   "cell_type": "markdown",
   "metadata": {},
   "source": [
    "# ModelBuilding"
   ]
  },
  {
   "cell_type": "code",
   "execution_count": 9,
   "metadata": {},
   "outputs": [],
   "source": [
    "model=Sequential()"
   ]
  },
  {
   "cell_type": "code",
   "execution_count": 10,
   "metadata": {},
   "outputs": [],
   "source": [
    "#1)convolution layer\n",
    "model.add(Convolution2D(32,(3,3),input_shape=(128,128,3),activation='relu',padding='same'))"
   ]
  },
  {
   "cell_type": "code",
   "execution_count": 11,
   "metadata": {},
   "outputs": [
    {
     "name": "stdout",
     "output_type": "stream",
     "text": [
      "WARNING:tensorflow:From D:\\Users\\hp\\anaconda\\lib\\site-packages\\keras\\backend\\tensorflow_backend.py:4070: The name tf.nn.max_pool is deprecated. Please use tf.nn.max_pool2d instead.\n",
      "\n"
     ]
    }
   ],
   "source": [
    "#1)maxpooling layer\n",
    "model.add(MaxPooling2D(pool_size=(2,2)))"
   ]
  },
  {
   "cell_type": "code",
   "execution_count": 12,
   "metadata": {},
   "outputs": [],
   "source": [
    "#2)convolution layer\n",
    "model.add(Convolution2D(32,(3,3),activation='relu',padding='same'))\n"
   ]
  },
  {
   "cell_type": "code",
   "execution_count": 13,
   "metadata": {},
   "outputs": [],
   "source": [
    "#2)maxpooling layer\n",
    "model.add(MaxPooling2D(pool_size=(2,2)))"
   ]
  },
  {
   "cell_type": "code",
   "execution_count": 14,
   "metadata": {},
   "outputs": [],
   "source": [
    "#Flatten layer \n",
    "model.add(Flatten())"
   ]
  },
  {
   "cell_type": "code",
   "execution_count": 15,
   "metadata": {},
   "outputs": [
    {
     "name": "stdout",
     "output_type": "stream",
     "text": [
      "Model: \"sequential_1\"\n",
      "_________________________________________________________________\n",
      "Layer (type)                 Output Shape              Param #   \n",
      "=================================================================\n",
      "conv2d_1 (Conv2D)            (None, 128, 128, 32)      896       \n",
      "_________________________________________________________________\n",
      "max_pooling2d_1 (MaxPooling2 (None, 64, 64, 32)        0         \n",
      "_________________________________________________________________\n",
      "conv2d_2 (Conv2D)            (None, 64, 64, 32)        9248      \n",
      "_________________________________________________________________\n",
      "max_pooling2d_2 (MaxPooling2 (None, 32, 32, 32)        0         \n",
      "_________________________________________________________________\n",
      "flatten_1 (Flatten)          (None, 32768)             0         \n",
      "=================================================================\n",
      "Total params: 10,144\n",
      "Trainable params: 10,144\n",
      "Non-trainable params: 0\n",
      "_________________________________________________________________\n"
     ]
    }
   ],
   "source": [
    "model.summary()"
   ]
  },
  {
   "cell_type": "code",
   "execution_count": 16,
   "metadata": {},
   "outputs": [],
   "source": [
    "model.add(Dense(300,activation='relu'))#hidden layer\n",
    "model.add(Dense(150,activation='relu'))#hidden layer\n",
    "model.add(Dense(6,activation='softmax'))#output layer"
   ]
  },
  {
   "cell_type": "code",
   "execution_count": 17,
   "metadata": {},
   "outputs": [],
   "source": [
    "model.compile(optimizer=\"adam\",loss=\"categorical_crossentropy\",metrics=['accuracy'])"
   ]
  },
  {
   "cell_type": "code",
   "execution_count": 18,
   "metadata": {},
   "outputs": [
    {
     "name": "stdout",
     "output_type": "stream",
     "text": [
      "WARNING:tensorflow:From D:\\Users\\hp\\anaconda\\lib\\site-packages\\keras\\backend\\tensorflow_backend.py:422: The name tf.global_variables is deprecated. Please use tf.compat.v1.global_variables instead.\n",
      "\n",
      "Epoch 1/30\n",
      "26/26 [==============================] - 64s 2s/step - loss: 2.1085 - accuracy: 0.2185 - val_loss: 1.7414 - val_accuracy: 0.2392\n",
      "Epoch 2/30\n",
      "26/26 [==============================] - 43s 2s/step - loss: 1.6348 - accuracy: 0.3150 - val_loss: 1.6454 - val_accuracy: 0.4375\n",
      "Epoch 3/30\n",
      "26/26 [==============================] - 74s 3s/step - loss: 1.5020 - accuracy: 0.3971 - val_loss: 1.5001 - val_accuracy: 0.4461\n",
      "Epoch 4/30\n",
      "26/26 [==============================] - 54s 2s/step - loss: 1.4253 - accuracy: 0.4278 - val_loss: 1.5885 - val_accuracy: 0.4526\n",
      "Epoch 5/30\n",
      "26/26 [==============================] - 63s 2s/step - loss: 1.3985 - accuracy: 0.4486 - val_loss: 1.5014 - val_accuracy: 0.4978\n",
      "Epoch 6/30\n",
      "26/26 [==============================] - 58s 2s/step - loss: 1.3234 - accuracy: 0.4924 - val_loss: 1.1872 - val_accuracy: 0.5000\n",
      "Epoch 7/30\n",
      "26/26 [==============================] - 48s 2s/step - loss: 1.2174 - accuracy: 0.5311 - val_loss: 1.2817 - val_accuracy: 0.4634\n",
      "Epoch 8/30\n",
      "26/26 [==============================] - 65s 2s/step - loss: 1.1744 - accuracy: 0.5510 - val_loss: 1.3612 - val_accuracy: 0.4978\n",
      "Epoch 9/30\n",
      "26/26 [==============================] - 64s 2s/step - loss: 1.0966 - accuracy: 0.6021 - val_loss: 1.3258 - val_accuracy: 0.5453\n",
      "Epoch 10/30\n",
      "26/26 [==============================] - 58s 2s/step - loss: 1.0459 - accuracy: 0.6017 - val_loss: 1.3527 - val_accuracy: 0.5690\n",
      "Epoch 11/30\n",
      "26/26 [==============================] - 44s 2s/step - loss: 0.9845 - accuracy: 0.6451 - val_loss: 1.2647 - val_accuracy: 0.5453\n",
      "Epoch 12/30\n",
      "26/26 [==============================] - 57s 2s/step - loss: 0.9119 - accuracy: 0.6555 - val_loss: 1.2132 - val_accuracy: 0.5991\n",
      "Epoch 13/30\n",
      "26/26 [==============================] - 42s 2s/step - loss: 0.8864 - accuracy: 0.6742 - val_loss: 1.3837 - val_accuracy: 0.5690\n",
      "Epoch 14/30\n",
      "26/26 [==============================] - 74s 3s/step - loss: 0.9081 - accuracy: 0.6527 - val_loss: 1.0343 - val_accuracy: 0.6013\n",
      "Epoch 15/30\n",
      "26/26 [==============================] - 56s 2s/step - loss: 0.8101 - accuracy: 0.7026 - val_loss: 0.9976 - val_accuracy: 0.6228\n",
      "Epoch 16/30\n",
      "26/26 [==============================] - 58s 2s/step - loss: 0.8845 - accuracy: 0.6790 - val_loss: 1.0445 - val_accuracy: 0.6142\n",
      "Epoch 17/30\n",
      "26/26 [==============================] - 48s 2s/step - loss: 0.6894 - accuracy: 0.7293 - val_loss: 1.0851 - val_accuracy: 0.6228\n",
      "Epoch 18/30\n",
      "26/26 [==============================] - 58s 2s/step - loss: 0.6871 - accuracy: 0.7460 - val_loss: 1.1622 - val_accuracy: 0.5884\n",
      "Epoch 19/30\n",
      "26/26 [==============================] - 44s 2s/step - loss: 0.6464 - accuracy: 0.7675 - val_loss: 1.4319 - val_accuracy: 0.6013\n",
      "Epoch 20/30\n",
      "26/26 [==============================] - 38s 1s/step - loss: 0.6461 - accuracy: 0.7612 - val_loss: 1.7046 - val_accuracy: 0.6509\n",
      "Epoch 21/30\n",
      "26/26 [==============================] - 31s 1s/step - loss: 0.5743 - accuracy: 0.7927 - val_loss: 1.1416 - val_accuracy: 0.6207\n",
      "Epoch 22/30\n",
      "26/26 [==============================] - 38s 1s/step - loss: 0.5265 - accuracy: 0.8098 - val_loss: 1.0455 - val_accuracy: 0.6789\n",
      "Epoch 23/30\n",
      "26/26 [==============================] - 36s 1s/step - loss: 0.4993 - accuracy: 0.8130 - val_loss: 1.0787 - val_accuracy: 0.6530\n",
      "Epoch 24/30\n",
      "26/26 [==============================] - 35s 1s/step - loss: 0.5707 - accuracy: 0.8070 - val_loss: 1.0019 - val_accuracy: 0.6315\n",
      "Epoch 25/30\n",
      "26/26 [==============================] - 43s 2s/step - loss: 0.5218 - accuracy: 0.8206 - val_loss: 1.2619 - val_accuracy: 0.6573\n",
      "Epoch 26/30\n",
      "26/26 [==============================] - 43s 2s/step - loss: 0.5230 - accuracy: 0.8162 - val_loss: 0.7818 - val_accuracy: 0.6595\n",
      "Epoch 27/30\n",
      "26/26 [==============================] - 51s 2s/step - loss: 0.4588 - accuracy: 0.8389 - val_loss: 1.3327 - val_accuracy: 0.6616\n",
      "Epoch 28/30\n",
      "26/26 [==============================] - 45s 2s/step - loss: 0.3756 - accuracy: 0.8604 - val_loss: 1.3375 - val_accuracy: 0.6509\n",
      "Epoch 29/30\n",
      "26/26 [==============================] - 60s 2s/step - loss: 0.3423 - accuracy: 0.8756 - val_loss: 1.1707 - val_accuracy: 0.6789\n",
      "Epoch 30/30\n",
      "26/26 [==============================] - 46s 2s/step - loss: 0.3198 - accuracy: 0.8888 - val_loss: 1.2680 - val_accuracy: 0.6918\n"
     ]
    },
    {
     "data": {
      "text/plain": [
       "<keras.callbacks.callbacks.History at 0x2789e6c9cf8>"
      ]
     },
     "execution_count": 18,
     "metadata": {},
     "output_type": "execute_result"
    }
   ],
   "source": [
    "#training \n",
    "#Note :increse epochs number\n",
    "model.fit_generator(X_train,validation_data=X_test,epochs=30)"
   ]
  },
  {
   "cell_type": "code",
   "execution_count": 19,
   "metadata": {},
   "outputs": [],
   "source": [
    "model.save('garbage.h5')"
   ]
  },
  {
   "cell_type": "code",
   "execution_count": 6,
   "metadata": {},
   "outputs": [
    {
     "name": "stderr",
     "output_type": "stream",
     "text": [
      "Using TensorFlow backend.\n"
     ]
    }
   ],
   "source": [
    "import numpy as np\n",
    "from keras.preprocessing import image"
   ]
  },
  {
   "cell_type": "markdown",
   "metadata": {},
   "source": [
    "# Testing"
   ]
  },
  {
   "cell_type": "code",
   "execution_count": 7,
   "metadata": {},
   "outputs": [],
   "source": [
    "from tensorflow.keras.models import load_model\n",
    "model=load_model(r\"D:\\chetu\\ML\\Garbage Classification Using CNN\\garbage.h5\")\n"
   ]
  },
  {
   "cell_type": "code",
   "execution_count": 28,
   "metadata": {},
   "outputs": [
    {
     "data": {
      "text/plain": [
       "(128, 128, 3)"
      ]
     },
     "execution_count": 28,
     "metadata": {},
     "output_type": "execute_result"
    }
   ],
   "source": [
    "#patch of image you  want to predict \n",
    "img=image.load_img(\"D:\\chetu\\ML\\Garbage Classification Using CNN\\dataset\\Training\\glass\\\\brown-glass14.jpg\",target_size=(128,128))\n",
    "x=image.img_to_array(img)#img to array\n",
    "x.shape"
   ]
  },
  {
   "cell_type": "code",
   "execution_count": 29,
   "metadata": {},
   "outputs": [
    {
     "data": {
      "text/plain": [
       "(1, 128, 128, 3)"
      ]
     },
     "execution_count": 29,
     "metadata": {},
     "output_type": "execute_result"
    }
   ],
   "source": [
    "x=np.expand_dims(x,axis=0)#used for adding one more dimension\n",
    "x.shape"
   ]
  },
  {
   "cell_type": "code",
   "execution_count": 30,
   "metadata": {},
   "outputs": [
    {
     "data": {
      "text/plain": [
       "array([2], dtype=int64)"
      ]
     },
     "execution_count": 30,
     "metadata": {},
     "output_type": "execute_result"
    }
   ],
   "source": [
    "prediction=model.predict_classes(x)#instead of predict_classes(x) we can use predict(X)\n",
    "prediction"
   ]
  },
  {
   "cell_type": "code",
   "execution_count": 31,
   "metadata": {},
   "outputs": [],
   "source": [
    "index=[\"cardbord\",\"glass\",\"metal\",\"paper\",\"plastic\",\"trash\"]"
   ]
  },
  {
   "cell_type": "code",
   "execution_count": 32,
   "metadata": {},
   "outputs": [
    {
     "data": {
      "text/plain": [
       "'metal'"
      ]
     },
     "execution_count": 32,
     "metadata": {},
     "output_type": "execute_result"
    }
   ],
   "source": [
    "result=str(index[prediction[0]])\n",
    "result"
   ]
  },
  {
   "cell_type": "code",
   "execution_count": 42,
   "metadata": {},
   "outputs": [],
   "source": [
    "from tensorflow.keras.models import load_model\n",
    "model=load_model(\"D:\\chetu\\ML\\Garbage Classification Using CNN\\garbage.h5\")"
   ]
  },
  {
   "cell_type": "code",
   "execution_count": null,
   "metadata": {},
   "outputs": [],
   "source": []
  }
 ],
 "metadata": {
  "interpreter": {
   "hash": "b8adb3b6b06e3681f9285198c54846cbe87e14e4c23e5f143135856c18f49bf3"
  },
  "kernelspec": {
   "display_name": "Python 3.7.3 64-bit ('base': conda)",
   "name": "python3"
  },
  "language_info": {
   "codemirror_mode": {
    "name": "ipython",
    "version": 3
   },
   "file_extension": ".py",
   "mimetype": "text/x-python",
   "name": "python",
   "nbconvert_exporter": "python",
   "pygments_lexer": "ipython3",
   "version": "3.7.3"
  },
  "orig_nbformat": 4
 },
 "nbformat": 4,
 "nbformat_minor": 2
}
